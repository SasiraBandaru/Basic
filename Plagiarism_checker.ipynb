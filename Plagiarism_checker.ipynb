{
  "nbformat": 4,
  "nbformat_minor": 0,
  "metadata": {
    "colab": {
      "provenance": []
    },
    "kernelspec": {
      "name": "python3",
      "display_name": "Python 3"
    },
    "language_info": {
      "name": "python"
    }
  },
  "cells": [
    {
      "cell_type": "code",
      "execution_count": null,
      "metadata": {
        "id": "7MeAAOBpVbZF"
      },
      "outputs": [],
      "source": [
        "import nltk\n",
        "from nltk.corpus import stopwords\n",
        "from nltk.tokenize import word_tokenize\n",
        "from sklearn.feature_extraction.text import TfidfVectorizer\n",
        "from sklearn.metrics.pairwise import cosine_similarity"
      ]
    },
    {
      "cell_type": "code",
      "source": [
        "nltk.download('punkt')\n",
        "nltk.download('stopwords')"
      ],
      "metadata": {
        "colab": {
          "base_uri": "https://localhost:8080/"
        },
        "id": "TlmMyFAirKEl",
        "outputId": "3e3f02fb-b503-4623-a097-c8179ad6a766"
      },
      "execution_count": null,
      "outputs": [
        {
          "output_type": "stream",
          "name": "stderr",
          "text": [
            "[nltk_data] Downloading package punkt to /root/nltk_data...\n",
            "[nltk_data]   Package punkt is already up-to-date!\n",
            "[nltk_data] Downloading package stopwords to /root/nltk_data...\n",
            "[nltk_data]   Package stopwords is already up-to-date!\n"
          ]
        },
        {
          "output_type": "execute_result",
          "data": {
            "text/plain": [
              "True"
            ]
          },
          "metadata": {},
          "execution_count": 3
        }
      ]
    },
    {
      "cell_type": "code",
      "source": [
        "def preprocess(text):\n",
        "    stop_words = set(stopwords.words('english'))\n",
        "    tokens = word_tokenize(text)\n",
        "    tokens = [word.lower() for word in tokens if word.isalnum()]\n",
        "    tokens = [word for word in tokens if not word in stop_words]\n",
        "    return ' '.join(tokens)"
      ],
      "metadata": {
        "id": "lejkhIaTrKHu"
      },
      "execution_count": null,
      "outputs": []
    },
    {
      "cell_type": "code",
      "source": [
        "def calculate_similarity(text1, text2):\n",
        "    corpus = [text1, text2]\n",
        "    vectorizer = TfidfVectorizer(preprocessor=preprocess)\n",
        "    tfidf_matrix = vectorizer.fit_transform(corpus)\n",
        "    similarity_matrix = cosine_similarity(tfidf_matrix)\n",
        "    return similarity_matrix[0, 1]"
      ],
      "metadata": {
        "id": "cXD0vp81rKK7"
      },
      "execution_count": null,
      "outputs": []
    },
    {
      "cell_type": "code",
      "source": [
        "def check_plagiarism(text1, text2, threshold=0.9):\n",
        "    similarity = calculate_similarity(text1, text2)\n",
        "    if similarity >= threshold:\n",
        "        return True\n",
        "    else:\n",
        "        return False"
      ],
      "metadata": {
        "id": "kFbhf6mZrKOk"
      },
      "execution_count": null,
      "outputs": []
    },
    {
      "cell_type": "code",
      "source": [
        "if __name__ == \"__main__\":\n",
        "    original_text = \"Original content goes here.\"\n",
        "    suspicious_text = \"Original kgvhutrcfvhghj m content goes here.\"\n",
        "\n",
        "    is_plagiarized = check_plagiarism(original_text, suspicious_text)\n",
        "    if is_plagiarized:\n",
        "        print(\"Plagiarism detected!\")\n",
        "    else:\n",
        "        print(\"No plagiarism detected.\")\n"
      ],
      "metadata": {
        "colab": {
          "base_uri": "https://localhost:8080/"
        },
        "id": "Njy5k_pgrKR2",
        "outputId": "bdd8099d-c655-4d24-add0-c31a3153bad2"
      },
      "execution_count": null,
      "outputs": [
        {
          "output_type": "stream",
          "name": "stdout",
          "text": [
            "No plagiarism detected.\n"
          ]
        }
      ]
    }
  ]
}